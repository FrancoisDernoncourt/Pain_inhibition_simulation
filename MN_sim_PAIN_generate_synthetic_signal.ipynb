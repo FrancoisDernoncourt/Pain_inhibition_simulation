{
 "cells": [
  {
   "cell_type": "code",
   "execution_count": null,
   "metadata": {},
   "outputs": [],
   "source": [
    "import matplotlib.pyplot as plt\n",
    "import numpy as np\n",
    "import pandas as pd\n",
    "import os\n",
    "from scipy.signal import butter, filtfilt, windows\n",
    "import matplotlib.cm as cm\n",
    "\n",
    "save_folder = 'D:/THESE/Git_Scripts/Python_Scripts/motoneuron_simulation/'\n",
    "\n",
    "duration = 80 # in seconds\n",
    "fsamp = 1000 # in samples/s\n",
    "nb_signals_to_generate = 10 # > 1 necessary for scripts requiring several independent inputs\n",
    "low_pass_cutoff = 5 # in hz\n",
    "\n",
    "# Low-pass filter artifact removal\n",
    "duration_to_remove = 1/low_pass_cutoff # in second\n",
    "Wind_s = duration_to_remove * 2\n",
    "HanningW = windows.hann(round(fsamp * Wind_s))\n",
    "HanningW = HanningW[:int(np.round(len(HanningW)/2))]\n",
    "nb_samples_artifact_removal_window = len(HanningW)\n",
    "\n",
    "time = np.linspace(0,duration,int(duration*fsamp))\n",
    "plt.figure()\n",
    "plt.plot(HanningW)\n",
    "plt.plot(HanningW[::-1])"
   ]
  },
  {
   "cell_type": "code",
   "execution_count": null,
   "metadata": {},
   "outputs": [],
   "source": [
    "# Define a low-pass filter\n",
    "def butter_lowpass(cutoff, fs, order=5):\n",
    "    nyquist = 0.5 * fs\n",
    "    normal_cutoff = cutoff / nyquist\n",
    "    b, a = butter(order, normal_cutoff, btype='low', analog=False)\n",
    "    return b, a\n",
    "def lowpass_filter(data, cutoff, fs, order=5):\n",
    "    b, a = butter_lowpass(cutoff, fs, order=order)\n",
    "    y = filtfilt(b, a, data)\n",
    "    return y"
   ]
  },
  {
   "cell_type": "code",
   "execution_count": null,
   "metadata": {},
   "outputs": [],
   "source": [
    "colormap_temp = cm.get_cmap('plasma')\n",
    "signals = []\n",
    "plt.figure(figsize=(25,7))\n",
    "for signali in range(nb_signals_to_generate):\n",
    "    temp_sig = np.random.normal(0, 1, len(time))\n",
    "    temp_sig = lowpass_filter(temp_sig, low_pass_cutoff, fsamp)\n",
    "    # Remove artifacts of the low-pass filter at the edges\n",
    "    # start of signal - artifact removal\n",
    "    temp_sig[0:nb_samples_artifact_removal_window] = temp_sig[0:nb_samples_artifact_removal_window] * HanningW\n",
    "     # end of signal - artifact removal\n",
    "    temp_sig[len(temp_sig)-nb_samples_artifact_removal_window:len(temp_sig)] = temp_sig[len(temp_sig)-nb_samples_artifact_removal_window:len(temp_sig)] * HanningW[::-1]\n",
    "    # Normalize the signal (mean-centered; std = 1)\n",
    "    temp_sig = temp_sig - np.mean(temp_sig)\n",
    "    temp_sig = temp_sig / np.std(temp_sig)\n",
    "    signals.append(temp_sig)\n",
    "    plt.plot(temp_sig,label=f'signal #{signali+1}',alpha=np.sqrt(1/nb_signals_to_generate), color=colormap_temp(signali/nb_signals_to_generate) )\n",
    "plt.legend()\n",
    "plt.xlabel(\"time (samples)\")\n",
    "plt.ylabel(\"Amplitude (normalized)\")\n",
    "# Convert into dataframe to save as a csv (one column per signal, one row per sample)\n",
    "df = pd.DataFrame(signals)\n",
    "df = df.transpose()"
   ]
  },
  {
   "cell_type": "code",
   "execution_count": null,
   "metadata": {},
   "outputs": [],
   "source": [
    "new_filename = f'Synthetic_signals.csv'\n",
    "save_file_path = os.path.join(save_folder, new_filename)\n",
    "df.to_csv(save_file_path, index=False)"
   ]
  }
 ],
 "metadata": {
  "kernelspec": {
   "display_name": "base",
   "language": "python",
   "name": "python3"
  },
  "language_info": {
   "codemirror_mode": {
    "name": "ipython",
    "version": 3
   },
   "file_extension": ".py",
   "mimetype": "text/x-python",
   "name": "python",
   "nbconvert_exporter": "python",
   "pygments_lexer": "ipython3",
   "version": "3.11.0"
  }
 },
 "nbformat": 4,
 "nbformat_minor": 2
}
